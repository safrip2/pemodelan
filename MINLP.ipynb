{
 "cells": [
  {
   "cell_type": "markdown",
   "metadata": {},
   "source": [
    "## Import Package"
   ]
  },
  {
   "cell_type": "code",
   "execution_count": 2,
   "metadata": {},
   "outputs": [],
   "source": [
    "import pandas as pd\n",
    "import gurobipy as gp\n",
    "from gurobipy import *\n",
    "from gurobipy import GRB\n"
   ]
  },
  {
   "cell_type": "markdown",
   "metadata": {},
   "source": [
    "## Define Data"
   ]
  },
  {
   "cell_type": "markdown",
   "metadata": {},
   "source": [
    "### 1. Cost matrices for products at different nodes."
   ]
  },
  {
   "cell_type": "markdown",
   "metadata": {},
   "source": [
    "### 2. Availability and storage capacity of products at different nodes."
   ]
  },
  {
   "cell_type": "markdown",
   "metadata": {},
   "source": [
    "### 3. Distance Matrices"
   ]
  },
  {
   "cell_type": "markdown",
   "metadata": {},
   "source": [
    "### 4. Demand matrices for products at LDCs and customers locations"
   ]
  },
  {
   "cell_type": "markdown",
   "metadata": {},
   "source": [
    "#### Demand at LDCs"
   ]
  },
  {
   "cell_type": "code",
   "execution_count": 32,
   "metadata": {},
   "outputs": [
    {
     "name": "stdout",
     "output_type": "stream",
     "text": [
      "demand   l1   l2   l3\n",
      "dc                   \n",
      "j1       50  140  200\n",
      "j2      100   20  130\n",
      "j3       40  300   44\n",
      "j4       50  150  100\n",
      "j5      120   60   40\n"
     ]
    }
   ],
   "source": [
    "demandLDC = [\n",
    "    {\"demand\": \"l1\", \"dc\": \"j1\", \"total\": 50},\n",
    "    {\"demand\": \"l1\", \"dc\": \"j2\", \"total\": 100},\n",
    "    {\"demand\": \"l1\", \"dc\": \"j3\", \"total\": 40},\n",
    "    {\"demand\": \"l1\", \"dc\": \"j4\", \"total\": 50},\n",
    "    {\"demand\": \"l1\", \"dc\": \"j5\", \"total\": 120},\n",
    "    {\"demand\": \"l2\", \"dc\": \"j1\", \"total\": 140},\n",
    "    {\"demand\": \"l2\", \"dc\": \"j2\", \"total\": 20},\n",
    "    {\"demand\": \"l2\", \"dc\": \"j3\", \"total\": 300},\n",
    "    {\"demand\": \"l2\", \"dc\": \"j4\", \"total\": 150},\n",
    "    {\"demand\": \"l2\", \"dc\": \"j5\", \"total\": 60},\n",
    "    {\"demand\": \"l3\", \"dc\": \"j1\", \"total\": 200},\n",
    "    {\"demand\": \"l3\", \"dc\": \"j2\", \"total\": 130},\n",
    "    {\"demand\": \"l3\", \"dc\": \"j3\", \"total\": 44},\n",
    "    {\"demand\": \"l3\", \"dc\": \"j4\", \"total\": 100},\n",
    "    {\"demand\": \"l3\", \"dc\": \"j5\", \"total\": 40},\n",
    "]\n",
    "demandLDC = pd.DataFrame(demandLDC)\n",
    "\n",
    "# Buat tabel demand pivot\n",
    "demand_pivot = demandLDC.pivot_table(index=\"dc\", columns=\"demand\", values=\"total\")\n",
    "\n",
    "# Tampilkan tabel demandLDC\n",
    "print(demand_pivot)"
   ]
  },
  {
   "cell_type": "markdown",
   "metadata": {},
   "source": [
    "#### Demand at Customer Location"
   ]
  },
  {
   "cell_type": "code",
   "execution_count": 33,
   "metadata": {},
   "outputs": [
    {
     "name": "stdout",
     "output_type": "stream",
     "text": [
      "demand  l1  l2  l3\n",
      "dc                \n",
      "k1      50  14  20\n",
      "k2      10  20  13\n",
      "k3      40  30  44\n",
      "k4      50  15  10\n",
      "k5      12  60  40\n"
     ]
    }
   ],
   "source": [
    "demandCL = [\n",
    "    {\"demand\": \"l1\", \"dc\": \"k1\", \"total\": 50},\n",
    "    {\"demand\": \"l1\", \"dc\": \"k2\", \"total\": 10},\n",
    "    {\"demand\": \"l1\", \"dc\": \"k3\", \"total\": 40},\n",
    "    {\"demand\": \"l1\", \"dc\": \"k4\", \"total\": 50},\n",
    "    {\"demand\": \"l1\", \"dc\": \"k5\", \"total\": 12},\n",
    "    {\"demand\": \"l2\", \"dc\": \"k1\", \"total\": 14},\n",
    "    {\"demand\": \"l2\", \"dc\": \"k2\", \"total\": 20},\n",
    "    {\"demand\": \"l2\", \"dc\": \"k3\", \"total\": 30},\n",
    "    {\"demand\": \"l2\", \"dc\": \"k4\", \"total\": 15},\n",
    "    {\"demand\": \"l2\", \"dc\": \"k5\", \"total\": 60},\n",
    "    {\"demand\": \"l3\", \"dc\": \"k1\", \"total\": 20},\n",
    "    {\"demand\": \"l3\", \"dc\": \"k2\", \"total\": 13},\n",
    "    {\"demand\": \"l3\", \"dc\": \"k3\", \"total\": 44},\n",
    "    {\"demand\": \"l3\", \"dc\": \"k4\", \"total\": 10},\n",
    "    {\"demand\": \"l3\", \"dc\": \"k5\", \"total\": 40},\n",
    "]\n",
    "demandCL = pd.DataFrame(demandCL)\n",
    "\n",
    "# Buat tabel demand pivot\n",
    "demand_pivot = demandCL.pivot_table(index=\"dc\", columns=\"demand\", values=\"total\")\n",
    "\n",
    "# Tampilkan tabel demandLDC\n",
    "print(demand_pivot)"
   ]
  },
  {
   "cell_type": "markdown",
   "metadata": {},
   "source": [
    "### 5. Number of vehicles required for the delivery and returned pickup of orders"
   ]
  },
  {
   "cell_type": "markdown",
   "metadata": {},
   "source": [
    "## Create Optimization Model"
   ]
  },
  {
   "cell_type": "code",
   "execution_count": 3,
   "metadata": {},
   "outputs": [
    {
     "name": "stdout",
     "output_type": "stream",
     "text": [
      "Set parameter Username\n",
      "Academic license - for non-commercial use only - expires 2023-12-03\n"
     ]
    }
   ],
   "source": [
    "minlp_model = Model(name= \"MINLP\")"
   ]
  },
  {
   "cell_type": "markdown",
   "metadata": {},
   "source": [
    "## Decision Variables"
   ]
  },
  {
   "cell_type": "markdown",
   "metadata": {},
   "source": [
    "\n",
    "$X_{ijl}^{FL1}$ = x1\\\n",
    "$X_{jkl}^{FL2}$ = x2\\\n",
    "$X_{jkl}^{Ret,RL}$ = x3\\\n",
    "$X_{mil}^{Resell,RL}$ = x4\\\n",
    "$X_{mfl}^{Refurb,RL}$ = x5\\\n",
    "$X_{mel}^{Recy,RL}$ = x6\n",
    "\n",
    "---\n",
    "**Quantity**:\\\n",
    "$Q_{ijl}^{FL1}$ = q1\\\n",
    "$Q_{jkl}^{FL2}$ = q2\\\n",
    "$Q_{kml}^{Ret,RL}$ = q3\\\n",
    "$Q_{mil}^{Resell,RL}$ = q4\\\n",
    "$Q_{mfl}^{Refurb,RL}$ = q5\\\n",
    "$Q_{mel}^{Recy,RL}$ = q6\n",
    "\n",
    "---\n",
    "**Product Selling Price at Supplier Point**:\\\n",
    "$SP_{il}^{FL}$ = sp\n",
    "\n",
    "---\n",
    "**Cost**:\\\n",
    "$C_{il}^{pc}$ = c1\\\n",
    "$C_{ml}^{pc,resell}$ = c2\\\n",
    "$C_{ml}^{pc,refurb}$ = c3\\\n",
    "$C_{ml}^{pc,recy}$ = c4\\\n",
    "$C^{tpc,FL}$ = c5\\\n",
    "$C^{lmdc,FL}$ = c6\\\n",
    "$C^{ct,lv}$ = c7\\\n",
    "$C^{ct,sv}$ = c8\\\n",
    "$C^{hc}$ = c9\\\n",
    "$C^{tpc,RL}$ = c10\\\n",
    "$C^{lmpc,RL}$ = c11"
   ]
  },
  {
   "cell_type": "code",
   "execution_count": 4,
   "metadata": {},
   "outputs": [],
   "source": [
    "x1 = minlp_model.addVar(vtype=GRB.BINARY, name=\"XFL1ijl\")\n",
    "x2 = minlp_model.addVar(vtype=GRB.BINARY, name=\"XFL2jkl\")\n",
    "x3 = minlp_model.addVar(vtype=GRB.BINARY, name=\"XRet,RL\")\n",
    "x4 = minlp_model.addVar(vtype=GRB.BINARY, name=\"XResell,RL\")\n",
    "x5 = minlp_model.addVar(vtype=GRB.BINARY, name=\"XRefurb,RL\")\n",
    "x6 = minlp_model.addVar(vtype=GRB.BINARY, name=\"XRecy,RL\")\n"
   ]
  },
  {
   "cell_type": "code",
   "execution_count": 5,
   "metadata": {},
   "outputs": [],
   "source": [
    "q1 = minlp_model.addVar(vtype=GRB.CONTINUOUS, name=\"QFL1ijl\")\n",
    "q2 = minlp_model.addVar(vtype=GRB.CONTINUOUS, name=\"QFL2jkl\")\n",
    "q3 = minlp_model.addVar(vtype=GRB.CONTINUOUS, name=\"QRet,RL\")\n",
    "q4 = minlp_model.addVar(vtype=GRB.CONTINUOUS, name=\"QResell,RL\")\n",
    "q5 = minlp_model.addVar(vtype=GRB.CONTINUOUS, name=\"QRefurb,RL\")\n",
    "q6 = minlp_model.addVar(vtype=GRB.CONTINUOUS, name=\"QRecy,RL\")"
   ]
  },
  {
   "cell_type": "code",
   "execution_count": 6,
   "metadata": {},
   "outputs": [],
   "source": [
    "sp = minlp_model.addVar(vtype=GRB.CONTINUOUS, name=\"SP FLil\")"
   ]
  },
  {
   "cell_type": "code",
   "execution_count": 7,
   "metadata": {},
   "outputs": [],
   "source": [
    "c1 = minlp_model.addVar(vtype=GRB.CONTINUOUS, name=\"CPC,il\")\n",
    "c2 = minlp_model.addVar(vtype=GRB.CONTINUOUS, name=\"CPC,resell\")\n",
    "c3 = minlp_model.addVar(vtype=GRB.CONTINUOUS, name=\"CPC,refurb\")\n",
    "c4 = minlp_model.addVar(vtype=GRB.CONTINUOUS, name=\"CPC,recy\")\n",
    "c5 = minlp_model.addVar(vtype=GRB.CONTINUOUS, name=\"Ctpc,fl\")\n",
    "c6 = minlp_model.addVar(vtype=GRB.CONTINUOUS, name=\"Clmdc,fl\")\n",
    "c7 = minlp_model.addVar(vtype=GRB.CONTINUOUS, name=\"Cct,lv\")\n",
    "c8 = minlp_model.addVar(vtype=GRB.CONTINUOUS, name=\"Cct,sv\")\n",
    "c9 = minlp_model.addVar(vtype=GRB.CONTINUOUS, name=\"Chc\")\n",
    "c10 = minlp_model.addVar(vtype=GRB.CONTINUOUS, name=\"Clmpc,rl\")"
   ]
  },
  {
   "cell_type": "markdown",
   "metadata": {},
   "source": [
    "## Objective Function\n",
    "\n",
    "MAX[Profit Forward + Profit Backward]\\\n",
    "MAX[revenue-cost Forward + revenue-cost Backward]\n",
    "\n",
    "**MAX**[selling price(s)-cost(forward)+selling price(resellable)+selling price(refurbished)+selling price(recycle)-cost(reverse)]\n"
   ]
  },
  {
   "cell_type": "code",
   "execution_count": 8,
   "metadata": {},
   "outputs": [],
   "source": [
    "z = minlp_model.addVar(vtype=GRB.CONTINUOUS, name=\"Z\")"
   ]
  },
  {
   "cell_type": "code",
   "execution_count": 9,
   "metadata": {},
   "outputs": [
    {
     "ename": "NameError",
     "evalue": "name 'profit' is not defined",
     "output_type": "error",
     "traceback": [
      "\u001b[1;31m---------------------------------------------------------------------------\u001b[0m",
      "\u001b[1;31mNameError\u001b[0m                                 Traceback (most recent call last)",
      "\u001b[1;32m~\\AppData\\Local\\Temp/ipykernel_16492/2161488389.py\u001b[0m in \u001b[0;36m<module>\u001b[1;34m\u001b[0m\n\u001b[1;32m----> 1\u001b[1;33m \u001b[1;32mfor\u001b[0m \u001b[0mxyz\u001b[0m \u001b[1;32min\u001b[0m \u001b[0mprofit\u001b[0m\u001b[1;33m:\u001b[0m\u001b[1;33m\u001b[0m\u001b[1;33m\u001b[0m\u001b[0m\n\u001b[0m\u001b[0;32m      2\u001b[0m     minlp_model.addConstr(\n\u001b[0;32m      3\u001b[0m         \u001b[0mquicksum\u001b[0m\u001b[1;33m(\u001b[0m\u001b[0mquicksum\u001b[0m\u001b[1;33m(\u001b[0m\u001b[0mx\u001b[0m\u001b[1;33m[\u001b[0m\u001b[0mi\u001b[0m\u001b[1;33m,\u001b[0m\u001b[0mj\u001b[0m\u001b[1;33m,\u001b[0m\u001b[0mk\u001b[0m\u001b[1;33m]\u001b[0m\u001b[1;33m*\u001b[0m\u001b[0mdist_matrix\u001b[0m\u001b[1;33m[\u001b[0m\u001b[0mi\u001b[0m\u001b[1;33m,\u001b[0m\u001b[0mj\u001b[0m\u001b[1;33m]\u001b[0m \u001b[1;32mfor\u001b[0m \u001b[0mj\u001b[0m \u001b[1;32min\u001b[0m \u001b[0mtotal\u001b[0m\u001b[1;33m)\u001b[0m\u001b[1;32mfor\u001b[0m \u001b[0mi\u001b[0m \u001b[1;32min\u001b[0m \u001b[0mtotal\u001b[0m\u001b[1;33m)\u001b[0m \u001b[1;33m<=\u001b[0m \u001b[0mz\u001b[0m\u001b[1;33m,\u001b[0m\u001b[1;33m\u001b[0m\u001b[1;33m\u001b[0m\u001b[0m\n\u001b[0;32m      4\u001b[0m     )\n",
      "\u001b[1;31mNameError\u001b[0m: name 'profit' is not defined"
     ]
    }
   ],
   "source": [
    "for xyz in profit:\n",
    "    minlp_model.addConstr(\n",
    "        quicksum(quicksum(x[i,j,k]*dist_matrix[i,j] for j in total)for i in total) <= z,\n",
    "    )"
   ]
  },
  {
   "cell_type": "markdown",
   "metadata": {},
   "source": [
    "## Constraints"
   ]
  },
  {
   "cell_type": "markdown",
   "metadata": {},
   "source": [
    "## Solve Model"
   ]
  },
  {
   "cell_type": "markdown",
   "metadata": {},
   "source": [
    "## Output the Results"
   ]
  },
  {
   "cell_type": "code",
   "execution_count": 38,
   "metadata": {},
   "outputs": [
    {
     "ename": "GurobiError",
     "evalue": "Constraint has no bool value (are you trying \"lb <= expr <= ub\"?)",
     "output_type": "error",
     "traceback": [
      "\u001b[1;31m---------------------------------------------------------------------------\u001b[0m",
      "\u001b[1;31mGurobiError\u001b[0m                               Traceback (most recent call last)",
      "\u001b[1;32m~\\AppData\\Local\\Temp/ipykernel_16972/1233766721.py\u001b[0m in \u001b[0;36m<module>\u001b[1;34m\u001b[0m\n\u001b[0;32m     42\u001b[0m \u001b[1;33m\u001b[0m\u001b[0m\n\u001b[0;32m     43\u001b[0m \u001b[1;32mfor\u001b[0m \u001b[0mk\u001b[0m \u001b[1;32min\u001b[0m \u001b[0mrange\u001b[0m\u001b[1;33m(\u001b[0m\u001b[1;36m1\u001b[0m\u001b[1;33m,\u001b[0m \u001b[0mn\u001b[0m\u001b[1;33m-\u001b[0m\u001b[1;36m1\u001b[0m\u001b[1;33m)\u001b[0m\u001b[1;33m:\u001b[0m\u001b[1;33m\u001b[0m\u001b[1;33m\u001b[0m\u001b[0m\n\u001b[1;32m---> 44\u001b[1;33m   opt_model.addConstr(grb.quicksum(x_vars[i,k] for i in range(n-1))\n\u001b[0m\u001b[0;32m     45\u001b[0m                       == grb.quicksum(x_vars[k,j] for j in range(1, n)) <=1)\n\u001b[0;32m     46\u001b[0m \u001b[1;32mfor\u001b[0m \u001b[0mk\u001b[0m \u001b[1;32min\u001b[0m \u001b[0mrange\u001b[0m\u001b[1;33m(\u001b[0m\u001b[1;36m1\u001b[0m\u001b[1;33m,\u001b[0m \u001b[0mn\u001b[0m\u001b[1;33m-\u001b[0m\u001b[1;36m1\u001b[0m\u001b[1;33m)\u001b[0m\u001b[1;33m:\u001b[0m\u001b[1;33m\u001b[0m\u001b[1;33m\u001b[0m\u001b[0m\n",
      "\u001b[1;32msrc\\gurobipy\\tempconstr.pxi\u001b[0m in \u001b[0;36mgurobipy.TempConstr.__bool__\u001b[1;34m()\u001b[0m\n",
      "\u001b[1;31mGurobiError\u001b[0m: Constraint has no bool value (are you trying \"lb <= expr <= ub\"?)"
     ]
    }
   ],
   "source": [
    "import random\n",
    "import gurobipy as grb\n",
    "import math\n",
    "\n",
    "n = 10\n",
    "Distance = 25\n",
    "\n",
    "def distance(points, i, j):\n",
    "  dx = points[i][0] - points[j][0]\n",
    "  dy = points[i][1] - points[j][1]\n",
    "  return math.sqrt(dx*dx + dy*dy)\n",
    "\n",
    "random.seed(1)\n",
    "points = []\n",
    "for i in range(n):\n",
    "  points.append((random.randint(0,100),random.randint(0,100)))\n",
    "opt_model = grb.Model(name=\"MILP Model\")\n",
    "\n",
    "# <= Variables\n",
    "\n",
    "x_vars = {}\n",
    "for i in range(n):\n",
    "   for j in range(n):\n",
    "     x_vars[i,j] = opt_model.addVar(vtype=grb.GRB.BINARY,\n",
    "                          name='e'+str(i)+'_'+str(j))\n",
    "u={}\n",
    "for i in range(1,n):\n",
    "    u[i]=opt_model.addVar(vtype=grb.GRB.INTEGER,\n",
    "                          name='e'+str(i))\n",
    "\n",
    "# <= Constraint (Mandatory Edges and excluding vertexes) Eq(1)\n",
    "\n",
    "opt_model.addConstr((grb.quicksum(x_vars[1,j] for j in range(1,n)))  == 1)\n",
    "opt_model.addConstr((grb.quicksum(x_vars[i,(n-1)] for i in range(n-1)))  == 1)\n",
    "opt_model.addConstr((grb.quicksum(x_vars[i,i] for i in range(n-1)))  == 0)\n",
    "# <= Constraint (Distance) Eq(3)\n",
    "for i in range(n-1):\n",
    "  opt_model.addConstr((grb.quicksum(x_vars[i,j]*distance(points, i, j) for j in range(1,n) for i in range(n-1))) <= Distance)\n",
    "\n",
    "\n",
    "# <= Constraint (Equality & Single edge in and out) Eq(2)\n",
    "\n",
    "for k in range(1, n-1):\n",
    "  opt_model.addConstr(grb.quicksum(x_vars[i,k] for i in range(n-1))\n",
    "                      == grb.quicksum(x_vars[k,j] for j in range(1, n)) <=1)\n",
    "for k in range(1, n-1):\n",
    "  opt_model.addConstr(grb.quicksum(x_vars[i,k] for i in range(n-1))\n",
    "                       <=1)\n",
    "  for k in range(1, n - 1):\n",
    "      opt_model.addConstr(grb.quicksum(x_vars[k, j] for j in range(1, n))\n",
    "                          <= 1)\n",
    "\n",
    "# <= Constraint (Subtour elimination) Eq(4) Eq(5)\n",
    "\n",
    "for i in range(1,n):\n",
    "  opt_model.addConstr(2 <= u[i] <= n)\n",
    "for i in range(1,n):\n",
    "    for j in range(1,n):\n",
    "        opt_model.addConstr((u[i] - u[j] +1 <= (n-1)*(1-x_vars[j,i])))\n",
    "\n",
    "# <= objective (maximize) Eq(1)\n",
    "\n",
    "objective = grb.quicksum(x_vars[i,j]\n",
    "                         for i in range(1, n-1)\n",
    "                         for j in range(1, n))\n",
    "\n",
    "opt_model.ModelSense = grb.GRB.MAXIMIZE\n",
    "opt_model.setObjective(objective)\n",
    "opt_model.update()\n",
    "opt_model.optimize()\n",
    "solution = opt_model.getAttr('x', x_vars )\n",
    "select = grb.tuplelist((i,j) for i,j in x_vars.keys() if x_vars[i,j].X > 0.5)\n",
    "\n",
    "for i in range(len(select)):\n",
    "    print(points[select[i][0]],points[select[i][1]])\n",
    "    print(distance(points,select[i][0],select[i][1]))"
   ]
  }
 ],
 "metadata": {
  "kernelspec": {
   "display_name": "Python 3.9.0 64-bit",
   "language": "python",
   "name": "python3"
  },
  "language_info": {
   "codemirror_mode": {
    "name": "ipython",
    "version": 3
   },
   "file_extension": ".py",
   "mimetype": "text/x-python",
   "name": "python",
   "nbconvert_exporter": "python",
   "pygments_lexer": "ipython3",
   "version": "3.9.0"
  },
  "orig_nbformat": 4,
  "vscode": {
   "interpreter": {
    "hash": "5addf786bcd861d1ce5006f23111f8cbb206731e5b61b0a5632ba9e0252558a8"
   }
  }
 },
 "nbformat": 4,
 "nbformat_minor": 2
}
